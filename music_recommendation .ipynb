{
 "cells": [
  {
   "cell_type": "code",
   "execution_count": 1,
   "id": "30471a1e",
   "metadata": {},
   "outputs": [],
   "source": [
    "import numpy as np\n",
    "import pandas as pd"
   ]
  },
  {
   "cell_type": "code",
   "execution_count": 2,
   "id": "4692a476",
   "metadata": {},
   "outputs": [],
   "source": [
    "db = pd.read_csv('song_data.csv')"
   ]
  },
  {
   "cell_type": "code",
   "execution_count": 3,
   "id": "85758caa",
   "metadata": {},
   "outputs": [
    {
     "data": {
      "text/html": [
       "<div>\n",
       "<style scoped>\n",
       "    .dataframe tbody tr th:only-of-type {\n",
       "        vertical-align: middle;\n",
       "    }\n",
       "\n",
       "    .dataframe tbody tr th {\n",
       "        vertical-align: top;\n",
       "    }\n",
       "\n",
       "    .dataframe thead th {\n",
       "        text-align: right;\n",
       "    }\n",
       "</style>\n",
       "<table border=\"1\" class=\"dataframe\">\n",
       "  <thead>\n",
       "    <tr style=\"text-align: right;\">\n",
       "      <th></th>\n",
       "      <th>Unnamed: 0</th>\n",
       "      <th>Track.Name</th>\n",
       "      <th>Artist.Name</th>\n",
       "      <th>Genre</th>\n",
       "      <th>Beats.Per.Minute</th>\n",
       "      <th>Energy</th>\n",
       "      <th>Danceability</th>\n",
       "      <th>Loudness..dB..</th>\n",
       "      <th>Liveness</th>\n",
       "      <th>Valence.</th>\n",
       "      <th>Length.</th>\n",
       "      <th>Acousticness..</th>\n",
       "      <th>Speechiness.</th>\n",
       "      <th>Popularity</th>\n",
       "    </tr>\n",
       "  </thead>\n",
       "  <tbody>\n",
       "    <tr>\n",
       "      <th>0</th>\n",
       "      <td>1</td>\n",
       "      <td>Se�orita</td>\n",
       "      <td>Shawn Mendes</td>\n",
       "      <td>canadian pop</td>\n",
       "      <td>117</td>\n",
       "      <td>55</td>\n",
       "      <td>76</td>\n",
       "      <td>-6</td>\n",
       "      <td>8</td>\n",
       "      <td>75</td>\n",
       "      <td>191</td>\n",
       "      <td>4</td>\n",
       "      <td>3</td>\n",
       "      <td>79</td>\n",
       "    </tr>\n",
       "    <tr>\n",
       "      <th>1</th>\n",
       "      <td>2</td>\n",
       "      <td>China</td>\n",
       "      <td>Anuel AA</td>\n",
       "      <td>reggaeton flow</td>\n",
       "      <td>105</td>\n",
       "      <td>81</td>\n",
       "      <td>79</td>\n",
       "      <td>-4</td>\n",
       "      <td>8</td>\n",
       "      <td>61</td>\n",
       "      <td>302</td>\n",
       "      <td>8</td>\n",
       "      <td>9</td>\n",
       "      <td>92</td>\n",
       "    </tr>\n",
       "    <tr>\n",
       "      <th>2</th>\n",
       "      <td>3</td>\n",
       "      <td>boyfriend (with Social House)</td>\n",
       "      <td>Ariana Grande</td>\n",
       "      <td>dance pop</td>\n",
       "      <td>190</td>\n",
       "      <td>80</td>\n",
       "      <td>40</td>\n",
       "      <td>-4</td>\n",
       "      <td>16</td>\n",
       "      <td>70</td>\n",
       "      <td>186</td>\n",
       "      <td>12</td>\n",
       "      <td>46</td>\n",
       "      <td>85</td>\n",
       "    </tr>\n",
       "    <tr>\n",
       "      <th>3</th>\n",
       "      <td>4</td>\n",
       "      <td>Beautiful People (feat. Khalid)</td>\n",
       "      <td>Ed Sheeran</td>\n",
       "      <td>pop</td>\n",
       "      <td>93</td>\n",
       "      <td>65</td>\n",
       "      <td>64</td>\n",
       "      <td>-8</td>\n",
       "      <td>8</td>\n",
       "      <td>55</td>\n",
       "      <td>198</td>\n",
       "      <td>12</td>\n",
       "      <td>19</td>\n",
       "      <td>86</td>\n",
       "    </tr>\n",
       "    <tr>\n",
       "      <th>4</th>\n",
       "      <td>5</td>\n",
       "      <td>Goodbyes (Feat. Young Thug)</td>\n",
       "      <td>Post Malone</td>\n",
       "      <td>dfw rap</td>\n",
       "      <td>150</td>\n",
       "      <td>65</td>\n",
       "      <td>58</td>\n",
       "      <td>-4</td>\n",
       "      <td>11</td>\n",
       "      <td>18</td>\n",
       "      <td>175</td>\n",
       "      <td>45</td>\n",
       "      <td>7</td>\n",
       "      <td>94</td>\n",
       "    </tr>\n",
       "  </tbody>\n",
       "</table>\n",
       "</div>"
      ],
      "text/plain": [
       "   Unnamed: 0                       Track.Name    Artist.Name           Genre  \\\n",
       "0           1                         Se�orita   Shawn Mendes    canadian pop   \n",
       "1           2                            China       Anuel AA  reggaeton flow   \n",
       "2           3    boyfriend (with Social House)  Ariana Grande       dance pop   \n",
       "3           4  Beautiful People (feat. Khalid)     Ed Sheeran             pop   \n",
       "4           5      Goodbyes (Feat. Young Thug)    Post Malone         dfw rap   \n",
       "\n",
       "   Beats.Per.Minute  Energy  Danceability  Loudness..dB..  Liveness  Valence.  \\\n",
       "0               117      55            76              -6         8        75   \n",
       "1               105      81            79              -4         8        61   \n",
       "2               190      80            40              -4        16        70   \n",
       "3                93      65            64              -8         8        55   \n",
       "4               150      65            58              -4        11        18   \n",
       "\n",
       "   Length.  Acousticness..  Speechiness.  Popularity  \n",
       "0      191               4             3          79  \n",
       "1      302               8             9          92  \n",
       "2      186              12            46          85  \n",
       "3      198              12            19          86  \n",
       "4      175              45             7          94  "
      ]
     },
     "execution_count": 3,
     "metadata": {},
     "output_type": "execute_result"
    }
   ],
   "source": [
    "db.head()"
   ]
  },
  {
   "cell_type": "code",
   "execution_count": 4,
   "id": "e08dbfdc",
   "metadata": {},
   "outputs": [
    {
     "data": {
      "text/plain": [
       "Index(['Unnamed: 0', 'Track.Name', 'Artist.Name', 'Genre', 'Beats.Per.Minute',\n",
       "       'Energy', 'Danceability', 'Loudness..dB..', 'Liveness', 'Valence.',\n",
       "       'Length.', 'Acousticness..', 'Speechiness.', 'Popularity'],\n",
       "      dtype='object')"
      ]
     },
     "execution_count": 4,
     "metadata": {},
     "output_type": "execute_result"
    }
   ],
   "source": [
    "db.columns"
   ]
  },
  {
   "cell_type": "code",
   "execution_count": 5,
   "id": "b21e5561",
   "metadata": {},
   "outputs": [
    {
     "data": {
      "text/plain": [
       "Unnamed: 0          0\n",
       "Track.Name          0\n",
       "Artist.Name         0\n",
       "Genre               0\n",
       "Beats.Per.Minute    0\n",
       "Energy              0\n",
       "Danceability        0\n",
       "Loudness..dB..      0\n",
       "Liveness            0\n",
       "Valence.            0\n",
       "Length.             0\n",
       "Acousticness..      0\n",
       "Speechiness.        0\n",
       "Popularity          0\n",
       "dtype: int64"
      ]
     },
     "execution_count": 5,
     "metadata": {},
     "output_type": "execute_result"
    }
   ],
   "source": [
    "db.isnull().sum()"
   ]
  },
  {
   "cell_type": "code",
   "execution_count": 6,
   "id": "0edc2df7",
   "metadata": {},
   "outputs": [],
   "source": [
    "#data is clean so no further operation needed"
   ]
  },
  {
   "cell_type": "code",
   "execution_count": 7,
   "id": "019c3a68",
   "metadata": {},
   "outputs": [
    {
     "data": {
      "text/plain": [
       "(50, 14)"
      ]
     },
     "execution_count": 7,
     "metadata": {},
     "output_type": "execute_result"
    }
   ],
   "source": [
    "db.shape"
   ]
  },
  {
   "cell_type": "code",
   "execution_count": 10,
   "id": "48777a30",
   "metadata": {},
   "outputs": [],
   "source": [
    "fea_columns = ['Track.Name', 'Artist.Name', 'Genre','Loudness..dB..','Energy','Length.']"
   ]
  },
  {
   "cell_type": "code",
   "execution_count": 11,
   "id": "a6780ce2",
   "metadata": {},
   "outputs": [
    {
     "data": {
      "text/html": [
       "<div>\n",
       "<style scoped>\n",
       "    .dataframe tbody tr th:only-of-type {\n",
       "        vertical-align: middle;\n",
       "    }\n",
       "\n",
       "    .dataframe tbody tr th {\n",
       "        vertical-align: top;\n",
       "    }\n",
       "\n",
       "    .dataframe thead th {\n",
       "        text-align: right;\n",
       "    }\n",
       "</style>\n",
       "<table border=\"1\" class=\"dataframe\">\n",
       "  <thead>\n",
       "    <tr style=\"text-align: right;\">\n",
       "      <th></th>\n",
       "      <th>Track.Name</th>\n",
       "      <th>Artist.Name</th>\n",
       "      <th>Genre</th>\n",
       "      <th>Loudness..dB..</th>\n",
       "      <th>Energy</th>\n",
       "      <th>Length.</th>\n",
       "    </tr>\n",
       "  </thead>\n",
       "  <tbody>\n",
       "    <tr>\n",
       "      <th>0</th>\n",
       "      <td>Se�orita</td>\n",
       "      <td>Shawn Mendes</td>\n",
       "      <td>canadian pop</td>\n",
       "      <td>-6</td>\n",
       "      <td>55</td>\n",
       "      <td>191</td>\n",
       "    </tr>\n",
       "    <tr>\n",
       "      <th>1</th>\n",
       "      <td>China</td>\n",
       "      <td>Anuel AA</td>\n",
       "      <td>reggaeton flow</td>\n",
       "      <td>-4</td>\n",
       "      <td>81</td>\n",
       "      <td>302</td>\n",
       "    </tr>\n",
       "    <tr>\n",
       "      <th>2</th>\n",
       "      <td>boyfriend (with Social House)</td>\n",
       "      <td>Ariana Grande</td>\n",
       "      <td>dance pop</td>\n",
       "      <td>-4</td>\n",
       "      <td>80</td>\n",
       "      <td>186</td>\n",
       "    </tr>\n",
       "  </tbody>\n",
       "</table>\n",
       "</div>"
      ],
      "text/plain": [
       "                      Track.Name    Artist.Name           Genre  \\\n",
       "0                       Se�orita   Shawn Mendes    canadian pop   \n",
       "1                          China       Anuel AA  reggaeton flow   \n",
       "2  boyfriend (with Social House)  Ariana Grande       dance pop   \n",
       "\n",
       "   Loudness..dB..  Energy  Length.  \n",
       "0              -6      55      191  \n",
       "1              -4      81      302  \n",
       "2              -4      80      186  "
      ]
     },
     "execution_count": 11,
     "metadata": {},
     "output_type": "execute_result"
    }
   ],
   "source": [
    "db[fea_columns].head(3)"
   ]
  },
  {
   "cell_type": "code",
   "execution_count": 12,
   "id": "2a1ba64a",
   "metadata": {},
   "outputs": [],
   "source": [
    "def combine_features(fea_columns,data):\n",
    "  combined_features = []\n",
    "  for i in range(0, data.shape[0]):\n",
    "    result = ''\n",
    "    for feature in fea_columns:\n",
    "      result = result + ' ' + str(data[feature][i]) \n",
    "    combined_features.append(result) \n",
    "  return combined_features "
   ]
  },
  {
   "cell_type": "code",
   "execution_count": 13,
   "id": "e9ea2483",
   "metadata": {},
   "outputs": [],
   "source": [
    "db['combined_features'] = combine_features(fea_columns,db)"
   ]
  },
  {
   "cell_type": "code",
   "execution_count": 14,
   "id": "255b73df",
   "metadata": {},
   "outputs": [
    {
     "data": {
      "text/html": [
       "<div>\n",
       "<style scoped>\n",
       "    .dataframe tbody tr th:only-of-type {\n",
       "        vertical-align: middle;\n",
       "    }\n",
       "\n",
       "    .dataframe tbody tr th {\n",
       "        vertical-align: top;\n",
       "    }\n",
       "\n",
       "    .dataframe thead th {\n",
       "        text-align: right;\n",
       "    }\n",
       "</style>\n",
       "<table border=\"1\" class=\"dataframe\">\n",
       "  <thead>\n",
       "    <tr style=\"text-align: right;\">\n",
       "      <th></th>\n",
       "      <th>Unnamed: 0</th>\n",
       "      <th>Track.Name</th>\n",
       "      <th>Artist.Name</th>\n",
       "      <th>Genre</th>\n",
       "      <th>Beats.Per.Minute</th>\n",
       "      <th>Energy</th>\n",
       "      <th>Danceability</th>\n",
       "      <th>Loudness..dB..</th>\n",
       "      <th>Liveness</th>\n",
       "      <th>Valence.</th>\n",
       "      <th>Length.</th>\n",
       "      <th>Acousticness..</th>\n",
       "      <th>Speechiness.</th>\n",
       "      <th>Popularity</th>\n",
       "      <th>combined_features</th>\n",
       "    </tr>\n",
       "  </thead>\n",
       "  <tbody>\n",
       "    <tr>\n",
       "      <th>47</th>\n",
       "      <td>48</td>\n",
       "      <td>Happier</td>\n",
       "      <td>Marshmello</td>\n",
       "      <td>brostep</td>\n",
       "      <td>100</td>\n",
       "      <td>79</td>\n",
       "      <td>69</td>\n",
       "      <td>-3</td>\n",
       "      <td>17</td>\n",
       "      <td>67</td>\n",
       "      <td>214</td>\n",
       "      <td>19</td>\n",
       "      <td>5</td>\n",
       "      <td>88</td>\n",
       "      <td>Happier Marshmello brostep -3 79 214</td>\n",
       "    </tr>\n",
       "    <tr>\n",
       "      <th>48</th>\n",
       "      <td>49</td>\n",
       "      <td>Call You Mine</td>\n",
       "      <td>The Chainsmokers</td>\n",
       "      <td>edm</td>\n",
       "      <td>104</td>\n",
       "      <td>70</td>\n",
       "      <td>59</td>\n",
       "      <td>-6</td>\n",
       "      <td>41</td>\n",
       "      <td>50</td>\n",
       "      <td>218</td>\n",
       "      <td>23</td>\n",
       "      <td>3</td>\n",
       "      <td>88</td>\n",
       "      <td>Call You Mine The Chainsmokers edm -6 70 218</td>\n",
       "    </tr>\n",
       "    <tr>\n",
       "      <th>49</th>\n",
       "      <td>50</td>\n",
       "      <td>Cross Me (feat. Chance the Rapper &amp; PnB Rock)</td>\n",
       "      <td>Ed Sheeran</td>\n",
       "      <td>pop</td>\n",
       "      <td>95</td>\n",
       "      <td>79</td>\n",
       "      <td>75</td>\n",
       "      <td>-6</td>\n",
       "      <td>7</td>\n",
       "      <td>61</td>\n",
       "      <td>206</td>\n",
       "      <td>21</td>\n",
       "      <td>12</td>\n",
       "      <td>82</td>\n",
       "      <td>Cross Me (feat. Chance the Rapper &amp; PnB Rock)...</td>\n",
       "    </tr>\n",
       "  </tbody>\n",
       "</table>\n",
       "</div>"
      ],
      "text/plain": [
       "    Unnamed: 0                                     Track.Name  \\\n",
       "47          48                                        Happier   \n",
       "48          49                                  Call You Mine   \n",
       "49          50  Cross Me (feat. Chance the Rapper & PnB Rock)   \n",
       "\n",
       "         Artist.Name    Genre  Beats.Per.Minute  Energy  Danceability  \\\n",
       "47        Marshmello  brostep               100      79            69   \n",
       "48  The Chainsmokers      edm               104      70            59   \n",
       "49        Ed Sheeran      pop                95      79            75   \n",
       "\n",
       "    Loudness..dB..  Liveness  Valence.  Length.  Acousticness..  Speechiness.  \\\n",
       "47              -3        17        67      214              19             5   \n",
       "48              -6        41        50      218              23             3   \n",
       "49              -6         7        61      206              21            12   \n",
       "\n",
       "    Popularity                                  combined_features  \n",
       "47          88               Happier Marshmello brostep -3 79 214  \n",
       "48          88       Call You Mine The Chainsmokers edm -6 70 218  \n",
       "49          82   Cross Me (feat. Chance the Rapper & PnB Rock)...  "
      ]
     },
     "execution_count": 14,
     "metadata": {},
     "output_type": "execute_result"
    }
   ],
   "source": [
    "db.tail(3)"
   ]
  },
  {
   "cell_type": "code",
   "execution_count": 15,
   "id": "25689a0d",
   "metadata": {},
   "outputs": [
    {
     "data": {
      "text/plain": [
       "' Cross Me (feat. Chance the Rapper & PnB Rock) Ed Sheeran pop -6 79 206'"
      ]
     },
     "execution_count": 15,
     "metadata": {},
     "output_type": "execute_result"
    }
   ],
   "source": [
    "db.iloc[49]['combined_features']"
   ]
  },
  {
   "cell_type": "code",
   "execution_count": 16,
   "id": "8e891556",
   "metadata": {},
   "outputs": [
    {
     "data": {
      "text/plain": [
       "CountVectorizer()"
      ]
     },
     "execution_count": 16,
     "metadata": {},
     "output_type": "execute_result"
    }
   ],
   "source": [
    "from sklearn.feature_extraction.text import CountVectorizer\n",
    "cv = CountVectorizer()\n",
    "cv.fit(db['combined_features'])\n",
    "# cv.vocabulary_"
   ]
  },
  {
   "cell_type": "code",
   "execution_count": 17,
   "id": "4025f9d6",
   "metadata": {},
   "outputs": [
    {
     "data": {
      "text/plain": [
       "{'se': 240,\n",
       " 'orita': 207,\n",
       " 'shawn': 244,\n",
       " 'mendes': 194,\n",
       " 'canadian': 106,\n",
       " 'pop': 218,\n",
       " '55': 56,\n",
       " '191': 19,\n",
       " 'china': 112,\n",
       " 'anuel': 84,\n",
       " 'aa': 78,\n",
       " 'reggaeton': 227,\n",
       " 'flow': 139,\n",
       " '81': 73,\n",
       " '302': 44,\n",
       " 'boyfriend': 96,\n",
       " 'with': 276,\n",
       " 'social': 249,\n",
       " 'house': 157,\n",
       " 'ariana': 85,\n",
       " 'grande': 147,\n",
       " 'dance': 122,\n",
       " '80': 72,\n",
       " '186': 18,\n",
       " 'beautiful': 91,\n",
       " 'people': 214,\n",
       " 'feat': 138,\n",
       " 'khalid': 169,\n",
       " 'ed': 130,\n",
       " 'sheeran': 245,\n",
       " '65': 61,\n",
       " '198': 23,\n",
       " 'goodbyes': 146,\n",
       " 'young': 280,\n",
       " 'thug': 265,\n",
       " 'post': 219,\n",
       " 'malone': 186,\n",
       " 'dfw': 124,\n",
       " 'rap': 223,\n",
       " '175': 12,\n",
       " 'don': 127,\n",
       " 'care': 109,\n",
       " 'justin': 167,\n",
       " 'bieber': 92,\n",
       " '68': 62,\n",
       " '220': 34,\n",
       " 'ransom': 222,\n",
       " 'lil': 177,\n",
       " 'tecca': 262,\n",
       " 'trap': 270,\n",
       " 'music': 198,\n",
       " '64': 60,\n",
       " '131': 3,\n",
       " 'how': 158,\n",
       " 'do': 126,\n",
       " 'you': 279,\n",
       " 'sleep': 246,\n",
       " 'sam': 238,\n",
       " 'smith': 247,\n",
       " '202': 26,\n",
       " 'old': 205,\n",
       " 'town': 268,\n",
       " 'road': 232,\n",
       " 'remix': 228,\n",
       " 'nas': 199,\n",
       " 'country': 119,\n",
       " '62': 59,\n",
       " '157': 5,\n",
       " 'bad': 88,\n",
       " 'guy': 150,\n",
       " 'billie': 94,\n",
       " 'eilish': 132,\n",
       " 'electropop': 133,\n",
       " '11': 0,\n",
       " '43': 50,\n",
       " '194': 21,\n",
       " 'callaita': 102,\n",
       " 'bunny': 100,\n",
       " '251': 40,\n",
       " 'loco': 179,\n",
       " 'contigo': 117,\n",
       " 'balvin': 89,\n",
       " 'tyga': 273,\n",
       " 'dj': 125,\n",
       " 'snake': 248,\n",
       " '71': 65,\n",
       " '185': 17,\n",
       " 'someone': 251,\n",
       " 'loved': 183,\n",
       " 'lewis': 176,\n",
       " 'capaldi': 108,\n",
       " '41': 49,\n",
       " '182': 16,\n",
       " 'otro': 208,\n",
       " 'trago': 269,\n",
       " 'sech': 242,\n",
       " 'panamanian': 211,\n",
       " '79': 71,\n",
       " '288': 43,\n",
       " 'money': 196,\n",
       " 'in': 161,\n",
       " 'the': 263,\n",
       " 'grave': 148,\n",
       " 'drake': 129,\n",
       " 'ft': 141,\n",
       " 'rick': 229,\n",
       " 'ross': 237,\n",
       " 'hip': 155,\n",
       " 'hop': 156,\n",
       " '50': 54,\n",
       " '205': 27,\n",
       " 'no': 203,\n",
       " 'guidance': 149,\n",
       " 'chris': 113,\n",
       " 'brown': 99,\n",
       " '45': 51,\n",
       " '261': 41,\n",
       " 'la': 171,\n",
       " 'canci': 107,\n",
       " 'latin': 174,\n",
       " '243': 39,\n",
       " 'sunflower': 256,\n",
       " 'spider': 252,\n",
       " 'man': 188,\n",
       " 'into': 162,\n",
       " 'verse': 274,\n",
       " '48': 53,\n",
       " '158': 6,\n",
       " 'lalala': 173,\n",
       " 'y2k': 277,\n",
       " '39': 47,\n",
       " '161': 7,\n",
       " 'truth': 272,\n",
       " 'hurts': 159,\n",
       " 'lizzo': 178,\n",
       " 'escape': 135,\n",
       " 'room': 235,\n",
       " '173': 11,\n",
       " 'piece': 216,\n",
       " 'of': 204,\n",
       " 'your': 281,\n",
       " 'heart': 153,\n",
       " 'meduza': 193,\n",
       " '74': 68,\n",
       " '153': 4,\n",
       " 'panini': 212,\n",
       " '59': 58,\n",
       " '115': 1,\n",
       " 'me': 192,\n",
       " 'conoce': 116,\n",
       " 'jhay': 165,\n",
       " 'cortez': 118,\n",
       " '309': 45,\n",
       " 'soltera': 250,\n",
       " 'lunay': 184,\n",
       " '78': 70,\n",
       " '266': 42,\n",
       " '195': 22,\n",
       " 'if': 160,\n",
       " 'can': 105,\n",
       " 'have': 152,\n",
       " '82': 74,\n",
       " 'monkey': 197,\n",
       " 'tones': 267,\n",
       " 'and': 81,\n",
       " 'australian': 87,\n",
       " '210': 29,\n",
       " 'it': 163,\n",
       " 'ali': 79,\n",
       " 'gatie': 145,\n",
       " '46': 52,\n",
       " '213': 30,\n",
       " 'con': 115,\n",
       " 'calma': 104,\n",
       " 'daddy': 121,\n",
       " 'yankee': 278,\n",
       " '86': 75,\n",
       " '193': 20,\n",
       " 'que': 221,\n",
       " 'pretendes': 220,\n",
       " '222': 35,\n",
       " 'takeaway': 258,\n",
       " 'chainsmokers': 110,\n",
       " 'edm': 131,\n",
       " '51': 55,\n",
       " 'rings': 231,\n",
       " '32': 46,\n",
       " '179': 14,\n",
       " '958333333333333': 77,\n",
       " 'maluma': 187,\n",
       " '176': 13,\n",
       " 'london': 180,\n",
       " 'cole': 114,\n",
       " 'travis': 271,\n",
       " 'scott': 239,\n",
       " 'atl': 86,\n",
       " '200': 25,\n",
       " 'never': 201,\n",
       " 'really': 225,\n",
       " 'over': 210,\n",
       " 'katy': 168,\n",
       " 'perry': 215,\n",
       " '88': 76,\n",
       " '224': 36,\n",
       " 'summer': 255,\n",
       " 'days': 123,\n",
       " 'macklemore': 185,\n",
       " 'patrick': 213,\n",
       " 'stump': 253,\n",
       " 'fall': 137,\n",
       " 'out': 209,\n",
       " 'boy': 95,\n",
       " 'martin': 191,\n",
       " 'garrix': 144,\n",
       " 'big': 93,\n",
       " '72': 66,\n",
       " '164': 9,\n",
       " '70': 64,\n",
       " '226': 37,\n",
       " 'antisocial': 83,\n",
       " '162': 8,\n",
       " 'sucker': 254,\n",
       " 'jonas': 166,\n",
       " 'brothers': 98,\n",
       " 'band': 90,\n",
       " '73': 67,\n",
       " '181': 15,\n",
       " 'fuck': 142,\n",
       " 'lonely': 181,\n",
       " 'anne': 82,\n",
       " 'marie': 189,\n",
       " 'from': 140,\n",
       " '13': 2,\n",
       " 'reasons': 226,\n",
       " 'why': 275,\n",
       " 'season': 241,\n",
       " 'lauv': 175,\n",
       " '56': 57,\n",
       " '199': 24,\n",
       " 'higher': 154,\n",
       " 'love': 182,\n",
       " 'kygo': 170,\n",
       " '228': 38,\n",
       " 'need': 200,\n",
       " 'to': 266,\n",
       " 'calm': 103,\n",
       " 'down': 128,\n",
       " 'taylor': 260,\n",
       " 'swift': 257,\n",
       " '171': 10,\n",
       " 'shallow': 243,\n",
       " 'lady': 172,\n",
       " 'gaga': 143,\n",
       " '216': 32,\n",
       " 'talk': 259,\n",
       " '40': 48,\n",
       " 'altura': 80,\n",
       " 'rosal': 236,\n",
       " 'en': 134,\n",
       " 'espanol': 136,\n",
       " '69': 63,\n",
       " 'one': 206,\n",
       " 'thing': 264,\n",
       " 'right': 230,\n",
       " 'marshmello': 190,\n",
       " 'brostep': 97,\n",
       " 'te': 261,\n",
       " 'robar': 233,\n",
       " 'nicky': 202,\n",
       " 'jam': 164,\n",
       " '75': 69,\n",
       " 'happier': 151,\n",
       " '214': 31,\n",
       " 'call': 101,\n",
       " 'mine': 195,\n",
       " '218': 33,\n",
       " 'cross': 120,\n",
       " 'chance': 111,\n",
       " 'rapper': 224,\n",
       " 'pnb': 217,\n",
       " 'rock': 234,\n",
       " '206': 28}"
      ]
     },
     "execution_count": 17,
     "metadata": {},
     "output_type": "execute_result"
    }
   ],
   "source": [
    "cv.vocabulary_"
   ]
  },
  {
   "cell_type": "code",
   "execution_count": 18,
   "id": "70b807de",
   "metadata": {},
   "outputs": [],
   "source": [
    " cv = cv.transform(db['combined_features']) "
   ]
  },
  {
   "cell_type": "code",
   "execution_count": 19,
   "id": "8890e98d",
   "metadata": {},
   "outputs": [
    {
     "data": {
      "text/plain": [
       "<50x282 sparse matrix of type '<class 'numpy.int64'>'\n",
       "\twith 430 stored elements in Compressed Sparse Row format>"
      ]
     },
     "execution_count": 19,
     "metadata": {},
     "output_type": "execute_result"
    }
   ],
   "source": [
    "cv"
   ]
  },
  {
   "cell_type": "code",
   "execution_count": 20,
   "id": "04ed5c0d",
   "metadata": {},
   "outputs": [
    {
     "name": "stdout",
     "output_type": "stream",
     "text": [
      "[[1.         0.         0.1118034  ... 0.         0.         0.09805807]\n",
      " [0.         1.         0.         ... 0.         0.         0.        ]\n",
      " [0.1118034  0.         1.         ... 0.         0.         0.0877058 ]\n",
      " ...\n",
      " [0.         0.         0.         ... 1.         0.         0.12403473]\n",
      " [0.         0.         0.         ... 0.         1.         0.09805807]\n",
      " [0.09805807 0.         0.0877058  ... 0.12403473 0.09805807 1.        ]]\n"
     ]
    }
   ],
   "source": [
    "from sklearn.metrics.pairwise import cosine_similarity\n",
    "cs = cosine_similarity(cv)\n",
    "print(cs)"
   ]
  },
  {
   "cell_type": "code",
   "execution_count": 21,
   "id": "25d853a7",
   "metadata": {},
   "outputs": [
    {
     "data": {
      "text/plain": [
       "(50, 50)"
      ]
     },
     "execution_count": 21,
     "metadata": {},
     "output_type": "execute_result"
    }
   ],
   "source": [
    "cs.shape"
   ]
  },
  {
   "cell_type": "code",
   "execution_count": 25,
   "id": "0aeff4f8",
   "metadata": {},
   "outputs": [],
   "source": [
    "track_name = 'Happier'"
   ]
  },
  {
   "cell_type": "code",
   "execution_count": 26,
   "id": "01edf381",
   "metadata": {},
   "outputs": [],
   "source": [
    "music_id = db[db['Track.Name'] == track_name].index.values"
   ]
  },
  {
   "cell_type": "code",
   "execution_count": 27,
   "id": "10ab50f2",
   "metadata": {},
   "outputs": [
    {
     "data": {
      "text/plain": [
       "array([47], dtype=int64)"
      ]
     },
     "execution_count": 27,
     "metadata": {},
     "output_type": "execute_result"
    }
   ],
   "source": [
    "music_id"
   ]
  },
  {
   "cell_type": "code",
   "execution_count": 28,
   "id": "724c93b0",
   "metadata": {},
   "outputs": [],
   "source": [
    "selected_music_cs = cs[music_id]"
   ]
  },
  {
   "cell_type": "code",
   "execution_count": 29,
   "id": "220ed510",
   "metadata": {},
   "outputs": [
    {
     "data": {
      "text/plain": [
       "(1, 50)"
      ]
     },
     "execution_count": 29,
     "metadata": {},
     "output_type": "execute_result"
    }
   ],
   "source": [
    "selected_music_cs.shape"
   ]
  },
  {
   "cell_type": "code",
   "execution_count": 30,
   "id": "f847164e",
   "metadata": {},
   "outputs": [
    {
     "data": {
      "text/plain": [
       "numpy.ndarray"
      ]
     },
     "execution_count": 30,
     "metadata": {},
     "output_type": "execute_result"
    }
   ],
   "source": [
    "type(selected_music_cs)"
   ]
  },
  {
   "cell_type": "code",
   "execution_count": 31,
   "id": "c1e88f2b",
   "metadata": {},
   "outputs": [],
   "source": [
    "sort_scores = np.argsort(selected_music_cs)"
   ]
  },
  {
   "cell_type": "code",
   "execution_count": 32,
   "id": "0639e185",
   "metadata": {},
   "outputs": [
    {
     "data": {
      "text/plain": [
       "(1, 50)"
      ]
     },
     "execution_count": 32,
     "metadata": {},
     "output_type": "execute_result"
    }
   ],
   "source": [
    "sort_scores.shape"
   ]
  },
  {
   "cell_type": "code",
   "execution_count": 33,
   "id": "505bb30e",
   "metadata": {},
   "outputs": [],
   "source": [
    "recommendation = sort_scores[:, sort_scores.shape[0]-12:-1]"
   ]
  },
  {
   "cell_type": "code",
   "execution_count": 34,
   "id": "11391a82",
   "metadata": {},
   "outputs": [
    {
     "data": {
      "text/plain": [
       "array([[17, 18, 19, 20, 12, 49, 22, 13, 29, 45]], dtype=int64)"
      ]
     },
     "execution_count": 34,
     "metadata": {},
     "output_type": "execute_result"
    }
   ],
   "source": [
    "recommendation"
   ]
  },
  {
   "cell_type": "code",
   "execution_count": 35,
   "id": "6dd691f0",
   "metadata": {},
   "outputs": [
    {
     "data": {
      "text/plain": [
       "int"
      ]
     },
     "execution_count": 35,
     "metadata": {},
     "output_type": "execute_result"
    }
   ],
   "source": [
    "type(recommendation.shape[1])"
   ]
  },
  {
   "cell_type": "code",
   "execution_count": 37,
   "id": "3142897e",
   "metadata": {},
   "outputs": [],
   "source": [
    "music = []\n",
    "for i in range(0, recommendation.shape[1]):\n",
    "  id = recommendation[0][i]\n",
    "  music.append(db.iloc[id]['Track.Name'])"
   ]
  },
  {
   "cell_type": "code",
   "execution_count": 39,
   "id": "ee960cf3",
   "metadata": {},
   "outputs": [
    {
     "data": {
      "text/plain": [
       "['Sunflower - Spider-Man: Into the Spider-Verse',\n",
       " 'Lalala',\n",
       " 'Truth Hurts',\n",
       " 'Piece Of Your Heart',\n",
       " 'Someone You Loved',\n",
       " 'Cross Me (feat. Chance the Rapper & PnB Rock)',\n",
       " 'No Me Conoce - Remix',\n",
       " 'Otro Trago - Remix',\n",
       " 'QUE PRETENDES',\n",
       " 'One Thing Right']"
      ]
     },
     "execution_count": 39,
     "metadata": {},
     "output_type": "execute_result"
    }
   ],
   "source": [
    "  music"
   ]
  },
  {
   "cell_type": "code",
   "execution_count": null,
   "id": "f234e8c9",
   "metadata": {},
   "outputs": [],
   "source": []
  }
 ],
 "metadata": {
  "kernelspec": {
   "display_name": "Python 3",
   "language": "python",
   "name": "python3"
  },
  "language_info": {
   "codemirror_mode": {
    "name": "ipython",
    "version": 3
   },
   "file_extension": ".py",
   "mimetype": "text/x-python",
   "name": "python",
   "nbconvert_exporter": "python",
   "pygments_lexer": "ipython3",
   "version": "3.8.8"
  }
 },
 "nbformat": 4,
 "nbformat_minor": 5
}
